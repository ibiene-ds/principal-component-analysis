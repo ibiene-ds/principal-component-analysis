{
 "cells": [
  {
   "cell_type": "markdown",
   "id": "a36714f2",
   "metadata": {},
   "source": [
    "# Compressing Feature Space for Classification using PCA"
   ]
  },
  {
   "cell_type": "markdown",
   "id": "ff55dea8",
   "metadata": {},
   "source": [
    "# Table of contents\n",
    "\n",
    "- [00. Problem Statement/Context](#context)\n",
    "- [01. Data Preparation](#data-prep)\n",
    "- [02. Principal Component Analysis](#pca)\n",
    "- [03. Random Forest Classification Model](#rf-model)\n",
    "- [04. Application](#application)\n",
    "- [05. Growth & Next Steps](#growth)"
   ]
  },
  {
   "cell_type": "markdown",
   "id": "9aceb144",
   "metadata": {},
   "source": [
    "# Problem Statement/Context <a name=\"context\"></a>\n",
    "\n",
    "Our client is looking to promote Ed Sheeran's new album - and want to be both targeted with their customer communications, and as efficient as possible with their marketing budget.\n",
    "\n",
    "As a proof-of-concept, they would like us to build a classification model for customers who purchased Ed's *last* album based upon a small sample of listening data they have acquired for some of their customers at that time.\n",
    "\n",
    "If we can do this successfully, they will look to purchase up-to-date listening data, apply the model, and use the predicted probabilities to promote to customers who are most likely to purchase.\n",
    "\n",
    "The sample data is short but wide.  It contains only 356 customers, but for each, columns that represent the percentage of historical listening time allocated to each of 100 artists.  On top of these, the 100 columns do not contain the artist in question, instead being labelled *artist1, artist2* etc.\n",
    "\n",
    "We will need to compress this data into something more manageable for classification!"
   ]
  },
  {
   "cell_type": "markdown",
   "id": "2c188a86",
   "metadata": {},
   "source": [
    "# Data Preparation <a name=\"data-prep\"></a>"
   ]
  },
  {
   "cell_type": "code",
   "execution_count": 3,
   "id": "a5a88939",
   "metadata": {},
   "outputs": [],
   "source": [
    "import pandas as pd\n",
    "import matplotlib.pyplot as plt\n",
    "\n",
    "import plotly.express as px\n",
    "\n",
    "from sklearn.ensemble import RandomForestClassifier\n",
    "from sklearn.utils import shuffle\n",
    "from sklearn.model_selection import train_test_split\n",
    "from sklearn.metrics import accuracy_score\n",
    "from sklearn.preprocessing import StandardScaler\n",
    "from sklearn.decomposition import PCA"
   ]
  },
  {
   "cell_type": "code",
   "execution_count": 5,
   "id": "6c7fbf13",
   "metadata": {},
   "outputs": [],
   "source": [
    "data_for_model = pd.read_csv(\"C:/Users/Ibiene/OneDrive/DataScience_MachineLearning/2022 ML Projects/principal-component-analysis/sample_data_pca.csv\")"
   ]
  },
  {
   "cell_type": "code",
   "execution_count": 13,
   "id": "58a7b040",
   "metadata": {
    "scrolled": true
   },
   "outputs": [],
   "source": [
    "data_sample = data_for_model.head(5)\n",
    "\n",
    "#purchased album is what we need to predict, 1 - pourchased Ed Sheeran's album, 0 - didn't purchase. "
   ]
  },
  {
   "cell_type": "code",
   "execution_count": 17,
   "id": "cf1e9530",
   "metadata": {},
   "outputs": [
    {
     "data": {
      "text/html": [
       "<div>\n",
       "<style scoped>\n",
       "    .dataframe tbody tr th:only-of-type {\n",
       "        vertical-align: middle;\n",
       "    }\n",
       "\n",
       "    .dataframe tbody tr th {\n",
       "        vertical-align: top;\n",
       "    }\n",
       "\n",
       "    .dataframe thead th {\n",
       "        text-align: right;\n",
       "    }\n",
       "</style>\n",
       "<table border=\"1\" class=\"dataframe\">\n",
       "  <thead>\n",
       "    <tr style=\"text-align: right;\">\n",
       "      <th></th>\n",
       "      <th>user_id</th>\n",
       "      <th>purchased_album</th>\n",
       "      <th>artist1</th>\n",
       "      <th>artist2</th>\n",
       "      <th>artist3</th>\n",
       "      <th>artist4</th>\n",
       "      <th>artist5</th>\n",
       "      <th>artist6</th>\n",
       "      <th>artist7</th>\n",
       "      <th>artist8</th>\n",
       "      <th>...</th>\n",
       "      <th>artist91</th>\n",
       "      <th>artist92</th>\n",
       "      <th>artist93</th>\n",
       "      <th>artist94</th>\n",
       "      <th>artist95</th>\n",
       "      <th>artist96</th>\n",
       "      <th>artist97</th>\n",
       "      <th>artist98</th>\n",
       "      <th>artist99</th>\n",
       "      <th>artist100</th>\n",
       "    </tr>\n",
       "  </thead>\n",
       "  <tbody>\n",
       "    <tr>\n",
       "      <th>0</th>\n",
       "      <td>1</td>\n",
       "      <td>1</td>\n",
       "      <td>0.0000</td>\n",
       "      <td>0.0891</td>\n",
       "      <td>0.0</td>\n",
       "      <td>0.0</td>\n",
       "      <td>0.0</td>\n",
       "      <td>0.0000</td>\n",
       "      <td>0.0</td>\n",
       "      <td>0.0</td>\n",
       "      <td>...</td>\n",
       "      <td>0.0000</td>\n",
       "      <td>0.0001</td>\n",
       "      <td>0.0606</td>\n",
       "      <td>0.0</td>\n",
       "      <td>0.0000</td>\n",
       "      <td>0.0578</td>\n",
       "      <td>0.1554</td>\n",
       "      <td>0.0001</td>\n",
       "      <td>0.0000</td>\n",
       "      <td>0.0000</td>\n",
       "    </tr>\n",
       "    <tr>\n",
       "      <th>1</th>\n",
       "      <td>2</td>\n",
       "      <td>0</td>\n",
       "      <td>0.0000</td>\n",
       "      <td>0.0000</td>\n",
       "      <td>0.0</td>\n",
       "      <td>0.0</td>\n",
       "      <td>0.0</td>\n",
       "      <td>0.0001</td>\n",
       "      <td>0.0</td>\n",
       "      <td>0.0</td>\n",
       "      <td>...</td>\n",
       "      <td>0.0008</td>\n",
       "      <td>0.0000</td>\n",
       "      <td>0.0016</td>\n",
       "      <td>0.0</td>\n",
       "      <td>0.0000</td>\n",
       "      <td>0.0000</td>\n",
       "      <td>0.0030</td>\n",
       "      <td>0.0034</td>\n",
       "      <td>0.8695</td>\n",
       "      <td>0.0037</td>\n",
       "    </tr>\n",
       "    <tr>\n",
       "      <th>2</th>\n",
       "      <td>3</td>\n",
       "      <td>1</td>\n",
       "      <td>0.0002</td>\n",
       "      <td>0.0000</td>\n",
       "      <td>0.0</td>\n",
       "      <td>0.0</td>\n",
       "      <td>0.0</td>\n",
       "      <td>0.0000</td>\n",
       "      <td>0.0</td>\n",
       "      <td>0.0</td>\n",
       "      <td>...</td>\n",
       "      <td>0.0000</td>\n",
       "      <td>0.0000</td>\n",
       "      <td>0.0000</td>\n",
       "      <td>0.0</td>\n",
       "      <td>0.0000</td>\n",
       "      <td>0.0000</td>\n",
       "      <td>0.0000</td>\n",
       "      <td>0.7179</td>\n",
       "      <td>0.0000</td>\n",
       "      <td>0.0008</td>\n",
       "    </tr>\n",
       "    <tr>\n",
       "      <th>3</th>\n",
       "      <td>4</td>\n",
       "      <td>1</td>\n",
       "      <td>0.0000</td>\n",
       "      <td>0.0000</td>\n",
       "      <td>0.0</td>\n",
       "      <td>0.0</td>\n",
       "      <td>0.0</td>\n",
       "      <td>0.0000</td>\n",
       "      <td>0.0</td>\n",
       "      <td>0.0</td>\n",
       "      <td>...</td>\n",
       "      <td>0.0146</td>\n",
       "      <td>0.0275</td>\n",
       "      <td>0.0060</td>\n",
       "      <td>0.0</td>\n",
       "      <td>0.1724</td>\n",
       "      <td>0.0000</td>\n",
       "      <td>0.0021</td>\n",
       "      <td>0.0012</td>\n",
       "      <td>0.0000</td>\n",
       "      <td>0.0000</td>\n",
       "    </tr>\n",
       "    <tr>\n",
       "      <th>4</th>\n",
       "      <td>5</td>\n",
       "      <td>1</td>\n",
       "      <td>0.0006</td>\n",
       "      <td>0.0000</td>\n",
       "      <td>0.0</td>\n",
       "      <td>0.0</td>\n",
       "      <td>0.0</td>\n",
       "      <td>0.0002</td>\n",
       "      <td>0.0</td>\n",
       "      <td>0.0</td>\n",
       "      <td>...</td>\n",
       "      <td>0.0310</td>\n",
       "      <td>0.1061</td>\n",
       "      <td>0.0000</td>\n",
       "      <td>0.0</td>\n",
       "      <td>0.0010</td>\n",
       "      <td>0.0000</td>\n",
       "      <td>0.6773</td>\n",
       "      <td>0.0000</td>\n",
       "      <td>0.0000</td>\n",
       "      <td>0.0000</td>\n",
       "    </tr>\n",
       "  </tbody>\n",
       "</table>\n",
       "<p>5 rows × 102 columns</p>\n",
       "</div>"
      ],
      "text/plain": [
       "   user_id  purchased_album  artist1  artist2  artist3  artist4  artist5  \\\n",
       "0        1                1   0.0000   0.0891      0.0      0.0      0.0   \n",
       "1        2                0   0.0000   0.0000      0.0      0.0      0.0   \n",
       "2        3                1   0.0002   0.0000      0.0      0.0      0.0   \n",
       "3        4                1   0.0000   0.0000      0.0      0.0      0.0   \n",
       "4        5                1   0.0006   0.0000      0.0      0.0      0.0   \n",
       "\n",
       "   artist6  artist7  artist8  ...  artist91  artist92  artist93  artist94  \\\n",
       "0   0.0000      0.0      0.0  ...    0.0000    0.0001    0.0606       0.0   \n",
       "1   0.0001      0.0      0.0  ...    0.0008    0.0000    0.0016       0.0   \n",
       "2   0.0000      0.0      0.0  ...    0.0000    0.0000    0.0000       0.0   \n",
       "3   0.0000      0.0      0.0  ...    0.0146    0.0275    0.0060       0.0   \n",
       "4   0.0002      0.0      0.0  ...    0.0310    0.1061    0.0000       0.0   \n",
       "\n",
       "   artist95  artist96  artist97  artist98  artist99  artist100  \n",
       "0    0.0000    0.0578    0.1554    0.0001    0.0000     0.0000  \n",
       "1    0.0000    0.0000    0.0030    0.0034    0.8695     0.0037  \n",
       "2    0.0000    0.0000    0.0000    0.7179    0.0000     0.0008  \n",
       "3    0.1724    0.0000    0.0021    0.0012    0.0000     0.0000  \n",
       "4    0.0010    0.0000    0.6773    0.0000    0.0000     0.0000  \n",
       "\n",
       "[5 rows x 102 columns]"
      ]
     },
     "execution_count": 17,
     "metadata": {},
     "output_type": "execute_result"
    }
   ],
   "source": [
    "data_sample"
   ]
  },
  {
   "cell_type": "code",
   "execution_count": 18,
   "id": "506a28eb",
   "metadata": {},
   "outputs": [],
   "source": [
    "data_for_model.drop('user_id', axis = 1, inplace= True)"
   ]
  },
  {
   "cell_type": "code",
   "execution_count": 19,
   "id": "6034df29",
   "metadata": {},
   "outputs": [],
   "source": [
    "# Shuffle data, just in case \n",
    "data_for_model= shuffle(data_for_model, random_state=42)\n"
   ]
  },
  {
   "cell_type": "code",
   "execution_count": 20,
   "id": "ee63d00f",
   "metadata": {
    "scrolled": true
   },
   "outputs": [
    {
     "data": {
      "text/html": [
       "<div>\n",
       "<style scoped>\n",
       "    .dataframe tbody tr th:only-of-type {\n",
       "        vertical-align: middle;\n",
       "    }\n",
       "\n",
       "    .dataframe tbody tr th {\n",
       "        vertical-align: top;\n",
       "    }\n",
       "\n",
       "    .dataframe thead th {\n",
       "        text-align: right;\n",
       "    }\n",
       "</style>\n",
       "<table border=\"1\" class=\"dataframe\">\n",
       "  <thead>\n",
       "    <tr style=\"text-align: right;\">\n",
       "      <th></th>\n",
       "      <th>purchased_album</th>\n",
       "      <th>artist1</th>\n",
       "      <th>artist2</th>\n",
       "      <th>artist3</th>\n",
       "      <th>artist4</th>\n",
       "      <th>artist5</th>\n",
       "      <th>artist6</th>\n",
       "      <th>artist7</th>\n",
       "      <th>artist8</th>\n",
       "      <th>artist9</th>\n",
       "      <th>...</th>\n",
       "      <th>artist91</th>\n",
       "      <th>artist92</th>\n",
       "      <th>artist93</th>\n",
       "      <th>artist94</th>\n",
       "      <th>artist95</th>\n",
       "      <th>artist96</th>\n",
       "      <th>artist97</th>\n",
       "      <th>artist98</th>\n",
       "      <th>artist99</th>\n",
       "      <th>artist100</th>\n",
       "    </tr>\n",
       "  </thead>\n",
       "  <tbody>\n",
       "    <tr>\n",
       "      <th>227</th>\n",
       "      <td>1</td>\n",
       "      <td>0.0000</td>\n",
       "      <td>0.0</td>\n",
       "      <td>0.0000</td>\n",
       "      <td>0.0000</td>\n",
       "      <td>0.0</td>\n",
       "      <td>0.0000</td>\n",
       "      <td>0.0000</td>\n",
       "      <td>0.0</td>\n",
       "      <td>0.0</td>\n",
       "      <td>...</td>\n",
       "      <td>0.0</td>\n",
       "      <td>0.0045</td>\n",
       "      <td>0.0</td>\n",
       "      <td>0.2887</td>\n",
       "      <td>0.0</td>\n",
       "      <td>0.0000</td>\n",
       "      <td>0.0000</td>\n",
       "      <td>0.0000</td>\n",
       "      <td>0.0136</td>\n",
       "      <td>0.0000</td>\n",
       "    </tr>\n",
       "    <tr>\n",
       "      <th>42</th>\n",
       "      <td>1</td>\n",
       "      <td>0.0278</td>\n",
       "      <td>0.0</td>\n",
       "      <td>0.0000</td>\n",
       "      <td>0.0000</td>\n",
       "      <td>0.0</td>\n",
       "      <td>0.0036</td>\n",
       "      <td>0.0002</td>\n",
       "      <td>0.0</td>\n",
       "      <td>0.0</td>\n",
       "      <td>...</td>\n",
       "      <td>0.0</td>\n",
       "      <td>0.0000</td>\n",
       "      <td>0.0</td>\n",
       "      <td>0.0000</td>\n",
       "      <td>0.0</td>\n",
       "      <td>0.0000</td>\n",
       "      <td>0.1894</td>\n",
       "      <td>0.0000</td>\n",
       "      <td>0.0000</td>\n",
       "      <td>0.0000</td>\n",
       "    </tr>\n",
       "    <tr>\n",
       "      <th>256</th>\n",
       "      <td>1</td>\n",
       "      <td>0.0000</td>\n",
       "      <td>0.0</td>\n",
       "      <td>0.0367</td>\n",
       "      <td>0.0053</td>\n",
       "      <td>0.0</td>\n",
       "      <td>0.0000</td>\n",
       "      <td>0.0367</td>\n",
       "      <td>0.0</td>\n",
       "      <td>0.0</td>\n",
       "      <td>...</td>\n",
       "      <td>0.0</td>\n",
       "      <td>0.0002</td>\n",
       "      <td>0.0</td>\n",
       "      <td>0.0002</td>\n",
       "      <td>0.0</td>\n",
       "      <td>0.0001</td>\n",
       "      <td>0.0000</td>\n",
       "      <td>0.0243</td>\n",
       "      <td>0.0000</td>\n",
       "      <td>0.0005</td>\n",
       "    </tr>\n",
       "  </tbody>\n",
       "</table>\n",
       "<p>3 rows × 101 columns</p>\n",
       "</div>"
      ],
      "text/plain": [
       "     purchased_album  artist1  artist2  artist3  artist4  artist5  artist6  \\\n",
       "227                1   0.0000      0.0   0.0000   0.0000      0.0   0.0000   \n",
       "42                 1   0.0278      0.0   0.0000   0.0000      0.0   0.0036   \n",
       "256                1   0.0000      0.0   0.0367   0.0053      0.0   0.0000   \n",
       "\n",
       "     artist7  artist8  artist9  ...  artist91  artist92  artist93  artist94  \\\n",
       "227   0.0000      0.0      0.0  ...       0.0    0.0045       0.0    0.2887   \n",
       "42    0.0002      0.0      0.0  ...       0.0    0.0000       0.0    0.0000   \n",
       "256   0.0367      0.0      0.0  ...       0.0    0.0002       0.0    0.0002   \n",
       "\n",
       "     artist95  artist96  artist97  artist98  artist99  artist100  \n",
       "227       0.0    0.0000    0.0000    0.0000    0.0136     0.0000  \n",
       "42        0.0    0.0000    0.1894    0.0000    0.0000     0.0000  \n",
       "256       0.0    0.0001    0.0000    0.0243    0.0000     0.0005  \n",
       "\n",
       "[3 rows x 101 columns]"
      ]
     },
     "execution_count": 20,
     "metadata": {},
     "output_type": "execute_result"
    }
   ],
   "source": [
    "data_for_model.head(3)"
   ]
  },
  {
   "cell_type": "code",
   "execution_count": 21,
   "id": "5323156a",
   "metadata": {},
   "outputs": [
    {
     "data": {
      "text/plain": [
       "1    0.533708\n",
       "0    0.466292\n",
       "Name: purchased_album, dtype: float64"
      ]
     },
     "execution_count": 21,
     "metadata": {},
     "output_type": "execute_result"
    }
   ],
   "source": [
    "#check for class balance, normalize = true gives you the proportions \n",
    "data_for_model.purchased_album.value_counts(normalize = True)"
   ]
  },
  {
   "cell_type": "markdown",
   "id": "3a5486b7",
   "metadata": {},
   "source": [
    "Balanced dataset with a 53%/47% split between classes. So classification accuracy is very likely reliable in assessing the performance of the model.\n",
    "\n",
    "Also, many of the values are 0 as customers do not listen to all 100 artists sampled here (data sparsity)"
   ]
  },
  {
   "cell_type": "code",
   "execution_count": 25,
   "id": "50833fe4",
   "metadata": {},
   "outputs": [
    {
     "name": "stdout",
     "output_type": "stream",
     "text": [
      "purchased_album    0.0\n",
      "artist1            0.0\n",
      "artist2            0.0\n",
      "artist3            0.0\n",
      "artist4            0.0\n",
      "                  ... \n",
      "artist96           0.0\n",
      "artist97           0.0\n",
      "artist98           0.0\n",
      "artist99           0.0\n",
      "artist100          0.0\n",
      "Length: 101, dtype: float64\n"
     ]
    }
   ],
   "source": [
    "# Check and deal with missing values\n",
    "\n",
    "print(data_for_model.isna().sum()/len(data_for_model))"
   ]
  },
  {
   "cell_type": "code",
   "execution_count": 26,
   "id": "371dd427",
   "metadata": {
    "scrolled": true
   },
   "outputs": [
    {
     "name": "stdout",
     "output_type": "stream",
     "text": [
      "0.0\n"
     ]
    },
    {
     "data": {
      "text/plain": [
       "(356, 101)"
      ]
     },
     "execution_count": 26,
     "metadata": {},
     "output_type": "execute_result"
    }
   ],
   "source": [
    "# Since there is a large number of inputs, printout above can be shortened to one line by doing an overall sum \n",
    "\n",
    "print(data_for_model.isna().sum().sum()/len(data_for_model))\n",
    "data_for_model.shape"
   ]
  },
  {
   "cell_type": "code",
   "execution_count": 23,
   "id": "7a421571",
   "metadata": {},
   "outputs": [],
   "source": [
    "# outliers check - not necessary in decision trees so skip step "
   ]
  },
  {
   "cell_type": "code",
   "execution_count": 46,
   "id": "28642845",
   "metadata": {},
   "outputs": [],
   "source": [
    "# split data into X and y\n",
    "X = data_for_model.drop('purchased_album', axis =1 )\n",
    "y = data_for_model['purchased_album']"
   ]
  },
  {
   "cell_type": "code",
   "execution_count": 47,
   "id": "fe251973",
   "metadata": {},
   "outputs": [],
   "source": [
    "# add stratify = y to make sure train and test sets have equal proportions of classes\n",
    "X_train, X_test, y_train, y_test = train_test_split(X, y, test_size= 0.2, random_state=42,stratify = y)"
   ]
  },
  {
   "cell_type": "markdown",
   "id": "d9e3da84",
   "metadata": {},
   "source": [
    "## Feature Scaling"
   ]
  },
  {
   "cell_type": "markdown",
   "id": "775a009c",
   "metadata": {},
   "source": [
    "Feature Scaling is really important in PCA - it ensures that the algorithm can successfully judge the correlations between the variables and effectively create the principal components for us. \n",
    "\n",
    "The gemerally accepted consensus is to use Standardization."
   ]
  },
  {
   "cell_type": "code",
   "execution_count": 48,
   "id": "51d8d340",
   "metadata": {},
   "outputs": [],
   "source": [
    "scale_standard = StandardScaler()"
   ]
  },
  {
   "cell_type": "code",
   "execution_count": 49,
   "id": "c5378c25",
   "metadata": {},
   "outputs": [],
   "source": [
    "X_train = scale_standard.fit_transform(X_train)"
   ]
  },
  {
   "cell_type": "code",
   "execution_count": 50,
   "id": "1c0d4dc4",
   "metadata": {},
   "outputs": [],
   "source": [
    "X_test = scale_standard.transform(X_test)"
   ]
  },
  {
   "cell_type": "markdown",
   "id": "49fefa62",
   "metadata": {},
   "source": [
    "# Principal Component Analysis <a name=\"pca\"></a>"
   ]
  },
  {
   "cell_type": "markdown",
   "id": "7ed8c9fe",
   "metadata": {},
   "source": [
    "## Fit PCA"
   ]
  },
  {
   "cell_type": "code",
   "execution_count": 51,
   "id": "43b71d7b",
   "metadata": {},
   "outputs": [],
   "source": [
    "pca = PCA(n_components = None, random_state = 42)"
   ]
  },
  {
   "cell_type": "markdown",
   "id": "e46bb7fe",
   "metadata": {},
   "source": [
    "n_components is not set to any particular number as we only want to examine and plot the percentage of explained variance as a starting point."
   ]
  },
  {
   "cell_type": "code",
   "execution_count": 52,
   "id": "fa45578e",
   "metadata": {
    "scrolled": true
   },
   "outputs": [
    {
     "data": {
      "text/plain": [
       "PCA(random_state=42)"
      ]
     },
     "execution_count": 52,
     "metadata": {},
     "output_type": "execute_result"
    }
   ],
   "source": [
    "pca.fit(X_train)"
   ]
  },
  {
   "cell_type": "markdown",
   "id": "3c95d914",
   "metadata": {},
   "source": [
    "## Plot the explained variance across components"
   ]
  },
  {
   "cell_type": "code",
   "execution_count": 53,
   "id": "e0b36b1b",
   "metadata": {},
   "outputs": [],
   "source": [
    "explained_variance = pca.explained_variance_ratio_\n",
    "explained_variance_cumulative = pca.explained_variance_ratio_.cumsum()"
   ]
  },
  {
   "cell_type": "code",
   "execution_count": 54,
   "id": "f9e9ae9c",
   "metadata": {},
   "outputs": [
    {
     "data": {
      "image/png": "[encoded data removed]",
      "text/plain": [
       "<Figure size 1080x720 with 2 Axes>"
      ]
     },
     "metadata": {
      "needs_background": "light"
     },
     "output_type": "display_data"
    }
   ],
   "source": [
    "num_vars_list = list(range(1, 101))\n",
    "plt.figure(figsize=(15, 10))\n",
    "\n",
    "plt.subplot(2, 1, 1)\n",
    "plt.bar(num_vars_list, explained_variance)\n",
    "plt.title(\"Variance across Principal Components\")\n",
    "plt.xlabel(\"Number of Components\")\n",
    "plt.ylabel(\"% of Variance\")\n",
    "plt.tight_layout()\n",
    "\n",
    "plt.subplot(2, 1, 2)\n",
    "plt.plot(num_vars_list, explained_variance_cumulative)\n",
    "plt.title(\"Cumulative Variance across Principal Components\")\n",
    "plt.xlabel(\"Number of Components\")\n",
    "plt.ylabel(\"Cumulative % of Variance\")\n",
    "plt.tight_layout()\n",
    "\n",
    "plt.show()\n"
   ]
  },
  {
   "cell_type": "markdown",
   "id": "8c24cdf6",
   "metadata": {},
   "source": [
    "In PCA, the first component (PC1) usually holds the most variance, and each subsequent component holds less and less. \n",
    "\n",
    "From the plot above, we see that ~75% of the variance is explained by 25 components, so we can use that as a starting point. \n"
   ]
  },
  {
   "cell_type": "code",
   "execution_count": 55,
   "id": "2a0ec693",
   "metadata": {},
   "outputs": [],
   "source": [
    "# Apply PCA with selected number of components\n",
    "\n",
    "pca_75 = PCA(n_components = 0.75, random_state = 42)"
   ]
  },
  {
   "cell_type": "markdown",
   "id": "630d6364",
   "metadata": {},
   "source": [
    "n_components can either be the percentage of variance or the number of components. In this case, we are indicating that we want to keep 75% of the variance."
   ]
  },
  {
   "cell_type": "code",
   "execution_count": 56,
   "id": "c65d2199",
   "metadata": {
    "scrolled": true
   },
   "outputs": [],
   "source": [
    "X_train = pca_75.fit_transform(X_train)"
   ]
  },
  {
   "cell_type": "code",
   "execution_count": 57,
   "id": "eac77e46",
   "metadata": {},
   "outputs": [],
   "source": [
    "X_test = pca_75.transform(X_test)"
   ]
  },
  {
   "cell_type": "code",
   "execution_count": 58,
   "id": "260a521b",
   "metadata": {},
   "outputs": [
    {
     "data": {
      "text/plain": [
       "array([[-0.4021941 , -0.75699883,  0.21924717, ...,  0.69928552,\n",
       "        -0.05906372,  0.76055747],\n",
       "       [-0.36007213, -1.13108387,  0.40324893, ...,  0.11438061,\n",
       "        -0.07724435,  0.02465604],\n",
       "       [10.69293403, -0.86657383,  0.71198676, ..., -1.10447554,\n",
       "         2.30523994,  2.60770229],\n",
       "       ...,\n",
       "       [ 1.00197218, -1.66885784,  0.63427027, ..., -3.40318488,\n",
       "         0.87659913, -2.01704601],\n",
       "       [-0.75303097,  3.75845543, -3.87202645, ...,  1.05689123,\n",
       "        -0.96292728,  0.42868757],\n",
       "       [-0.48844855, -0.58581165,  0.03826661, ...,  1.41959942,\n",
       "         0.08132504,  0.32049442]])"
      ]
     },
     "execution_count": 58,
     "metadata": {},
     "output_type": "execute_result"
    }
   ],
   "source": [
    "X_train"
   ]
  },
  {
   "cell_type": "code",
   "execution_count": 59,
   "id": "cf41d2d5",
   "metadata": {},
   "outputs": [
    {
     "data": {
      "text/plain": [
       "24"
      ]
     },
     "execution_count": 59,
     "metadata": {},
     "output_type": "execute_result"
    }
   ],
   "source": [
    "pca_75.n_components_"
   ]
  },
  {
   "cell_type": "markdown",
   "id": "b7b2791a",
   "metadata": {},
   "source": [
    "# Random Forest Classification Model<a name=\"rf-model\"></a>"
   ]
  },
  {
   "cell_type": "code",
   "execution_count": 60,
   "id": "3d6dfca7",
   "metadata": {},
   "outputs": [],
   "source": [
    "clf = RandomForestClassifier(random_state = 42)"
   ]
  },
  {
   "cell_type": "code",
   "execution_count": 61,
   "id": "735a5ad5",
   "metadata": {},
   "outputs": [
    {
     "data": {
      "text/plain": [
       "RandomForestClassifier(random_state=42)"
      ]
     },
     "execution_count": 61,
     "metadata": {},
     "output_type": "execute_result"
    }
   ],
   "source": [
    "clf.fit(X_train, y_train)"
   ]
  },
  {
   "cell_type": "code",
   "execution_count": 62,
   "id": "84dd0e0d",
   "metadata": {},
   "outputs": [],
   "source": [
    "y_pred_class = clf.predict(X_test)"
   ]
  },
  {
   "cell_type": "code",
   "execution_count": 63,
   "id": "5bc223ad",
   "metadata": {},
   "outputs": [
    {
     "data": {
      "text/plain": [
       "0.9305555555555556"
      ]
     },
     "execution_count": 63,
     "metadata": {},
     "output_type": "execute_result"
    }
   ],
   "source": [
    "accuracy_score(y_test, y_pred_class)"
   ]
  },
  {
   "cell_type": "markdown",
   "id": "d396dd7d",
   "metadata": {},
   "source": [
    "This tells us that using a classifier trained on 24 principal components can accurately predict which test set customers purchased Ed Sheeran's last album, with an accuracy of 93%."
   ]
  },
  {
   "cell_type": "markdown",
   "id": "e889d6f0",
   "metadata": {},
   "source": [
    "# Application <a name=\"application\"></a>"
   ]
  },
  {
   "cell_type": "markdown",
   "id": "b4b09a57",
   "metadata": {},
   "source": [
    "Based upon this proof-of-concept, we could go back to the client and recommend that they purchase some up to date listening data. We would could apply PCA to this, create the components, and predict which customers are likely to buy Ed’s next album.\n",
    "\n"
   ]
  },
  {
   "cell_type": "markdown",
   "id": "db6d475c",
   "metadata": {},
   "source": [
    "# Growth and Next Steps<a name=\"growth\"></a>"
   ]
  },
  {
   "cell_type": "markdown",
   "id": "b17c59a9",
   "metadata": {},
   "source": [
    "We only tested one type of classifier here (Random Forest) - it would be worthwhile testing others. We also only used the default classifier hyperparameters - we would want to optimise these.\n",
    "\n",
    "Here, we selected 24 components based upon the fact this accounted for 75% of the variance of the initial feature set. We would instead look to search for the optimal number of components to use based upon classification accuracy."
   ]
  }
 ],
 "metadata": {
  "kernelspec": {
   "display_name": "Python 3 (ipykernel)",
   "language": "python",
   "name": "python3"
  },
  "language_info": {
   "codemirror_mode": {
    "name": "ipython",
    "version": 3
   },
   "file_extension": ".py",
   "mimetype": "text/x-python",
   "name": "python",
   "nbconvert_exporter": "python",
   "pygments_lexer": "ipython3",
   "version": "3.9.12"
  }
 },
 "nbformat": 4,
 "nbformat_minor": 5
}
